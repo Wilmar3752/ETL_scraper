{
 "cells": [
  {
   "cell_type": "code",
   "execution_count": 1,
   "metadata": {},
   "outputs": [],
   "source": [
    "%load_ext autoreload\n",
    "%autoreload 2\n",
    "import pandas as pd\n",
    "from extract import get_data_from_api\n",
    "from transform import transform_json_to_df"
   ]
  },
  {
   "cell_type": "code",
   "execution_count": 19,
   "metadata": {},
   "outputs": [],
   "source": [
    "data_initial  = pd.read_csv('../data/raw/updated_data.csv', index_col=0)\n"
   ]
  },
  {
   "cell_type": "code",
   "execution_count": 20,
   "metadata": {},
   "outputs": [
    {
     "name": "stdout",
     "output_type": "stream",
     "text": [
      "(2558, 11)\n"
     ]
    },
    {
     "data": {
      "text/html": [
       "<div>\n",
       "<style scoped>\n",
       "    .dataframe tbody tr th:only-of-type {\n",
       "        vertical-align: middle;\n",
       "    }\n",
       "\n",
       "    .dataframe tbody tr th {\n",
       "        vertical-align: top;\n",
       "    }\n",
       "\n",
       "    .dataframe thead th {\n",
       "        text-align: right;\n",
       "    }\n",
       "</style>\n",
       "<table border=\"1\" class=\"dataframe\">\n",
       "  <thead>\n",
       "    <tr style=\"text-align: right;\">\n",
       "      <th></th>\n",
       "      <th>product</th>\n",
       "      <th>price</th>\n",
       "      <th>link</th>\n",
       "      <th>years</th>\n",
       "      <th>kilometraje</th>\n",
       "      <th>vehicle_make</th>\n",
       "      <th>vehicle_line</th>\n",
       "      <th>id</th>\n",
       "      <th>location_city</th>\n",
       "      <th>location_state</th>\n",
       "      <th>_created</th>\n",
       "    </tr>\n",
       "  </thead>\n",
       "  <tbody>\n",
       "    <tr>\n",
       "      <th>0</th>\n",
       "      <td>Bmw X3 2.0 F25 Xdrive20d Executive</td>\n",
       "      <td>96000000</td>\n",
       "      <td>https://carro.mercadolibre.com.co/MCO-13841684...</td>\n",
       "      <td>2015</td>\n",
       "      <td>18500</td>\n",
       "      <td>Bmw</td>\n",
       "      <td>X3</td>\n",
       "      <td>1384168441</td>\n",
       "      <td>Usaquén</td>\n",
       "      <td>Bogotá D.C.</td>\n",
       "      <td>2024-01-28 14:19:52</td>\n",
       "    </tr>\n",
       "    <tr>\n",
       "      <th>1</th>\n",
       "      <td>Bmw X3 3.0 F25 Xdrive30d</td>\n",
       "      <td>126000000</td>\n",
       "      <td>https://carro.mercadolibre.com.co/MCO-13841918...</td>\n",
       "      <td>2017</td>\n",
       "      <td>14000</td>\n",
       "      <td>Bmw</td>\n",
       "      <td>X3</td>\n",
       "      <td>1384191887</td>\n",
       "      <td>Usaquén</td>\n",
       "      <td>Bogotá D.C.</td>\n",
       "      <td>2024-01-28 14:19:52</td>\n",
       "    </tr>\n",
       "    <tr>\n",
       "      <th>2</th>\n",
       "      <td>Kia Carens 2.0 Rondo Ex</td>\n",
       "      <td>45000000</td>\n",
       "      <td>https://carro.mercadolibre.com.co/MCO-13841794...</td>\n",
       "      <td>2012</td>\n",
       "      <td>120286</td>\n",
       "      <td>Kia</td>\n",
       "      <td>Carens</td>\n",
       "      <td>1384179429</td>\n",
       "      <td>Suba</td>\n",
       "      <td>Bogotá D.C.</td>\n",
       "      <td>2024-01-28 14:19:52</td>\n",
       "    </tr>\n",
       "    <tr>\n",
       "      <th>3</th>\n",
       "      <td>Nissan Kicks 1.6 Exclusive</td>\n",
       "      <td>74000000</td>\n",
       "      <td>https://carro.mercadolibre.com.co/MCO-21689481...</td>\n",
       "      <td>2018</td>\n",
       "      <td>60658</td>\n",
       "      <td>Nissan</td>\n",
       "      <td>Kicks</td>\n",
       "      <td>2168948126</td>\n",
       "      <td>Chapinero</td>\n",
       "      <td>Bogotá D.C.</td>\n",
       "      <td>2024-01-28 14:19:52</td>\n",
       "    </tr>\n",
       "    <tr>\n",
       "      <th>4</th>\n",
       "      <td>Audi Q5 2.0 Tdi Quattro Ambition</td>\n",
       "      <td>230000000</td>\n",
       "      <td>https://carro.mercadolibre.com.co/MCO-13841910...</td>\n",
       "      <td>2022</td>\n",
       "      <td>5481</td>\n",
       "      <td>Audi</td>\n",
       "      <td>Q5</td>\n",
       "      <td>1384191031</td>\n",
       "      <td>Usaquén</td>\n",
       "      <td>Bogotá D.C.</td>\n",
       "      <td>2024-01-28 14:19:52</td>\n",
       "    </tr>\n",
       "  </tbody>\n",
       "</table>\n",
       "</div>"
      ],
      "text/plain": [
       "                              product      price  \\\n",
       "0  Bmw X3 2.0 F25 Xdrive20d Executive   96000000   \n",
       "1            Bmw X3 3.0 F25 Xdrive30d  126000000   \n",
       "2             Kia Carens 2.0 Rondo Ex   45000000   \n",
       "3          Nissan Kicks 1.6 Exclusive   74000000   \n",
       "4    Audi Q5 2.0 Tdi Quattro Ambition  230000000   \n",
       "\n",
       "                                                link  years  kilometraje  \\\n",
       "0  https://carro.mercadolibre.com.co/MCO-13841684...   2015        18500   \n",
       "1  https://carro.mercadolibre.com.co/MCO-13841918...   2017        14000   \n",
       "2  https://carro.mercadolibre.com.co/MCO-13841794...   2012       120286   \n",
       "3  https://carro.mercadolibre.com.co/MCO-21689481...   2018        60658   \n",
       "4  https://carro.mercadolibre.com.co/MCO-13841910...   2022         5481   \n",
       "\n",
       "  vehicle_make vehicle_line          id location_city location_state  \\\n",
       "0          Bmw           X3  1384168441       Usaquén    Bogotá D.C.   \n",
       "1          Bmw           X3  1384191887       Usaquén    Bogotá D.C.   \n",
       "2          Kia       Carens  1384179429          Suba    Bogotá D.C.   \n",
       "3       Nissan        Kicks  2168948126     Chapinero    Bogotá D.C.   \n",
       "4         Audi           Q5  1384191031       Usaquén    Bogotá D.C.   \n",
       "\n",
       "              _created  \n",
       "0  2024-01-28 14:19:52  \n",
       "1  2024-01-28 14:19:52  \n",
       "2  2024-01-28 14:19:52  \n",
       "3  2024-01-28 14:19:52  \n",
       "4  2024-01-28 14:19:52  "
      ]
     },
     "execution_count": 20,
     "metadata": {},
     "output_type": "execute_result"
    }
   ],
   "source": [
    "\n",
    "\n",
    "print(data_initial.shape)\n",
    "data_initial.head()\n"
   ]
  },
  {
   "cell_type": "code",
   "execution_count": 5,
   "metadata": {},
   "outputs": [],
   "source": [
    "new_data = get_data_from_api()"
   ]
  },
  {
   "cell_type": "code",
   "execution_count": 6,
   "metadata": {},
   "outputs": [],
   "source": [
    "new_data = transform_json_to_df(new_data)\n"
   ]
  },
  {
   "cell_type": "code",
   "execution_count": 7,
   "metadata": {},
   "outputs": [],
   "source": [
    "final_data = pd.concat([data_initial,new_data])"
   ]
  },
  {
   "cell_type": "code",
   "execution_count": 8,
   "metadata": {},
   "outputs": [],
   "source": [
    "final_data['id'] = final_data['id'].astype(int)"
   ]
  },
  {
   "cell_type": "code",
   "execution_count": 9,
   "metadata": {},
   "outputs": [
    {
     "data": {
      "text/plain": [
       "id\n",
       "1386098031    2\n",
       "2180022630    2\n",
       "1386081913    2\n",
       "1386107179    2\n",
       "1386091749    2\n",
       "             ..\n",
       "1382313777    1\n",
       "1382276349    1\n",
       "2159699840    1\n",
       "2162822878    1\n",
       "2181103404    1\n",
       "Name: count, Length: 2558, dtype: int64"
      ]
     },
     "execution_count": 9,
     "metadata": {},
     "output_type": "execute_result"
    }
   ],
   "source": [
    "final_data['id'].value_counts()"
   ]
  },
  {
   "cell_type": "code",
   "execution_count": 16,
   "metadata": {},
   "outputs": [],
   "source": [
    "from datetime import datetime\n",
    "now = datetime.now().strftime(\"%Y-%m-%d %H:%M:%S\")\n",
    "\n"
   ]
  },
  {
   "cell_type": "code",
   "execution_count": 12,
   "metadata": {},
   "outputs": [],
   "source": [
    "final_data = final_data.drop_duplicates(subset=['id'])\n",
    "final_data.reset_index(inplace=True, drop=True)"
   ]
  },
  {
   "cell_type": "code",
   "execution_count": 17,
   "metadata": {},
   "outputs": [],
   "source": [
    "final_data['_created'] = now"
   ]
  },
  {
   "cell_type": "code",
   "execution_count": 18,
   "metadata": {},
   "outputs": [],
   "source": [
    "final_data.to_csv('../data/raw/updated_data.csv')"
   ]
  },
  {
   "cell_type": "code",
   "execution_count": null,
   "metadata": {},
   "outputs": [],
   "source": []
  }
 ],
 "metadata": {
  "kernelspec": {
   "display_name": "car_etl",
   "language": "python",
   "name": "python3"
  },
  "language_info": {
   "codemirror_mode": {
    "name": "ipython",
    "version": 3
   },
   "file_extension": ".py",
   "mimetype": "text/x-python",
   "name": "python",
   "nbconvert_exporter": "python",
   "pygments_lexer": "ipython3",
   "version": "3.10.13"
  }
 },
 "nbformat": 4,
 "nbformat_minor": 2
}
